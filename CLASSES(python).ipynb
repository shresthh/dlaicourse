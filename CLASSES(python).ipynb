{
  "nbformat": 4,
  "nbformat_minor": 0,
  "metadata": {
    "colab": {
      "name": "CLASSES(python).ipynb",
      "provenance": [],
      "collapsed_sections": [],
      "authorship_tag": "ABX9TyPR+P2w5bSeWdA9PZKTO5M+",
      "include_colab_link": true
    },
    "kernelspec": {
      "name": "python3",
      "display_name": "Python 3"
    }
  },
  "cells": [
    {
      "cell_type": "markdown",
      "metadata": {
        "id": "view-in-github",
        "colab_type": "text"
      },
      "source": [
        "<a href=\"https://colab.research.google.com/github/shresthh/dlaicourse/blob/master/CLASSES(python).ipynb\" target=\"_parent\"><img src=\"https://colab.research.google.com/assets/colab-badge.svg\" alt=\"Open In Colab\"/></a>"
      ]
    },
    {
      "cell_type": "markdown",
      "metadata": {
        "id": "doAix9aOoe5c",
        "colab_type": "text"
      },
      "source": [
        "PYthon CLASSES"
      ]
    },
    {
      "cell_type": "code",
      "metadata": {
        "id": "nUG-inien__h",
        "colab_type": "code",
        "colab": {}
      },
      "source": [
        "class MobilePhone:\n",
        "    \"\"\"This is simple class to illustrate how Python classes work\"\"\"\n",
        "    def __init__(self, name,is_android = False,screen_size=4.3):\n",
        "        self.name=name\n",
        "        self.is_android= is_android\n",
        "        self.screen_size= screen_size\n",
        "        self.rating = -1\n",
        "    def has_rating(self):\n",
        "        return self.rating> -1"
      ],
      "execution_count": 0,
      "outputs": []
    },
    {
      "cell_type": "code",
      "metadata": {
        "id": "D1gh4hW4osEd",
        "colab_type": "code",
        "colab": {}
      },
      "source": [
        "new_phone = MobilePhone('Iphone 5s')"
      ],
      "execution_count": 0,
      "outputs": []
    },
    {
      "cell_type": "code",
      "metadata": {
        "id": "a7xeNdK3ovXu",
        "colab_type": "code",
        "colab": {
          "base_uri": "https://localhost:8080/",
          "height": 34
        },
        "outputId": "b8c14b51-ffdb-4d0f-d791-cfdbf4d5a1da"
      },
      "source": [
        "type(new_phone)"
      ],
      "execution_count": 26,
      "outputs": [
        {
          "output_type": "execute_result",
          "data": {
            "text/plain": [
              "__main__.MobilePhone"
            ]
          },
          "metadata": {
            "tags": []
          },
          "execution_count": 26
        }
      ]
    },
    {
      "cell_type": "code",
      "metadata": {
        "id": "9Izk1NkEpXPc",
        "colab_type": "code",
        "colab": {
          "base_uri": "https://localhost:8080/",
          "height": 34
        },
        "outputId": "14b47538-9253-4534-9211-3f17fbca7b1b"
      },
      "source": [
        "print(new_phone.name,new_phone.is_android,new_phone.screen_size)"
      ],
      "execution_count": 27,
      "outputs": [
        {
          "output_type": "stream",
          "text": [
            "Iphone 5s False 4.3\n"
          ],
          "name": "stdout"
        }
      ]
    },
    {
      "cell_type": "code",
      "metadata": {
        "id": "KFQVFpEgps6O",
        "colab_type": "code",
        "colab": {}
      },
      "source": [
        "new_phone.screen_size = 4"
      ],
      "execution_count": 0,
      "outputs": []
    },
    {
      "cell_type": "code",
      "metadata": {
        "id": "pMT--hmNqnae",
        "colab_type": "code",
        "colab": {
          "base_uri": "https://localhost:8080/",
          "height": 34
        },
        "outputId": "f963dd50-11b4-4500-e297-ea7b3c11ca9a"
      },
      "source": [
        "print(new_phone.screen_size)"
      ],
      "execution_count": 29,
      "outputs": [
        {
          "output_type": "stream",
          "text": [
            "4\n"
          ],
          "name": "stdout"
        }
      ]
    },
    {
      "cell_type": "code",
      "metadata": {
        "id": "ypxq8JxdqtF_",
        "colab_type": "code",
        "colab": {
          "base_uri": "https://localhost:8080/",
          "height": 34
        },
        "outputId": "74010369-7f31-4ace-b498-a1058e30a049"
      },
      "source": [
        "print(new_phone.has_rating())"
      ],
      "execution_count": 32,
      "outputs": [
        {
          "output_type": "stream",
          "text": [
            "True\n"
          ],
          "name": "stdout"
        }
      ]
    },
    {
      "cell_type": "code",
      "metadata": {
        "id": "IOkwI3dfqyHh",
        "colab_type": "code",
        "colab": {}
      },
      "source": [
        "new_phone.rating  =3.9"
      ],
      "execution_count": 0,
      "outputs": []
    },
    {
      "cell_type": "code",
      "metadata": {
        "id": "Zcn6bhDarMMz",
        "colab_type": "code",
        "colab": {
          "base_uri": "https://localhost:8080/",
          "height": 34
        },
        "outputId": "09f80197-aa98-4df2-8e71-342b0bbda094"
      },
      "source": [
        "MobilePhone.__doc__"
      ],
      "execution_count": 36,
      "outputs": [
        {
          "output_type": "execute_result",
          "data": {
            "text/plain": [
              "'This is simple class to illustrate how Python classes work'"
            ]
          },
          "metadata": {
            "tags": []
          },
          "execution_count": 36
        }
      ]
    },
    {
      "cell_type": "markdown",
      "metadata": {
        "id": "VE0Ym1zNrvMm",
        "colab_type": "text"
      },
      "source": [
        "#Inheritance"
      ]
    },
    {
      "cell_type": "code",
      "metadata": {
        "id": "0YxFdZBPrUO6",
        "colab_type": "code",
        "colab": {}
      },
      "source": [
        "class iPhone(MobilePhone):\n",
        "    def __init__(self,name):\n",
        "        MobilePhone.__init__(self, name, False , 4)\n",
        "\n",
        "    def __str__(self):\n",
        "        return self.name + \" \" + str(self.is_android) + \" \" + str(self.screen_size)"
      ],
      "execution_count": 0,
      "outputs": []
    },
    {
      "cell_type": "code",
      "metadata": {
        "id": "SLPyNw0gsIXM",
        "colab_type": "code",
        "colab": {}
      },
      "source": [
        "new_iphone = iPhone('iPhone 5s')"
      ],
      "execution_count": 0,
      "outputs": []
    },
    {
      "cell_type": "code",
      "metadata": {
        "id": "wldzIn4isN97",
        "colab_type": "code",
        "colab": {
          "base_uri": "https://localhost:8080/",
          "height": 34
        },
        "outputId": "14b4e714-6caf-439b-a1bf-7cbc79dad18a"
      },
      "source": [
        "new_iphone.is_android"
      ],
      "execution_count": 52,
      "outputs": [
        {
          "output_type": "execute_result",
          "data": {
            "text/plain": [
              "False"
            ]
          },
          "metadata": {
            "tags": []
          },
          "execution_count": 52
        }
      ]
    },
    {
      "cell_type": "code",
      "metadata": {
        "id": "S45mh1ICtRor",
        "colab_type": "code",
        "colab": {
          "base_uri": "https://localhost:8080/",
          "height": 34
        },
        "outputId": "cef5e268-020c-4eda-f424-ad10ff9a83f5"
      },
      "source": [
        "print(new_iphone)"
      ],
      "execution_count": 53,
      "outputs": [
        {
          "output_type": "stream",
          "text": [
            "iPhone 5s False 4\n"
          ],
          "name": "stdout"
        }
      ]
    },
    {
      "cell_type": "code",
      "metadata": {
        "id": "YdzkI-6DuAoK",
        "colab_type": "code",
        "colab": {}
      },
      "source": [
        ""
      ],
      "execution_count": 0,
      "outputs": []
    }
  ]
}